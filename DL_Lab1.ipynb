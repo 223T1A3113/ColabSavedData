{
  "nbformat": 4,
  "nbformat_minor": 0,
  "metadata": {
    "colab": {
      "provenance": [],
      "authorship_tag": "ABX9TyNSDOapXYkB7fL6xYChoIfm",
      "include_colab_link": true
    },
    "kernelspec": {
      "name": "python3",
      "display_name": "Python 3"
    },
    "language_info": {
      "name": "python"
    }
  },
  "cells": [
    {
      "cell_type": "markdown",
      "metadata": {
        "id": "view-in-github",
        "colab_type": "text"
      },
      "source": [
        "<a href=\"https://colab.research.google.com/github/223T1A3113/ColabSavedData/blob/main/DL_Lab1.ipynb\" target=\"_parent\"><img src=\"https://colab.research.google.com/assets/colab-badge.svg\" alt=\"Open In Colab\"/></a>"
      ]
    },
    {
      "cell_type": "code",
      "source": [
        "r=int(input(\"Enter the number of rows: \"))\n",
        "c=int(input(\"Enter the number of cols: \"))\n",
        "mat1=[]\n",
        "mat2=[]\n",
        "res=[]\n",
        "\n",
        "for i in range(r):\n",
        "  row=[]\n",
        "  for j in range(c):\n",
        "    e=int(input(\"Enter the element: \"))\n",
        "    row.append(e)\n",
        "  mat1.append(row)\n",
        "print(mat1)\n",
        "\n",
        "for i in range(r):\n",
        "  row=[]\n",
        "  for j in range(c):\n",
        "    e=int(input(\"Enter the element: \"))\n",
        "    row.append(e)\n",
        "  mat2.append(row)\n",
        "print(mat2)\n",
        "\n",
        "for i in range(r):\n",
        "  row=[]\n",
        "  for j in range(c):\n",
        "    row.append(mat1[i][j]-mat2[i][j])\n",
        "  res.append(row)\n",
        "print(\"Resultant matrix is: \")\n",
        "print(res)\n"
      ],
      "metadata": {
        "colab": {
          "base_uri": "https://localhost:8080/"
        },
        "id": "-1x5P6wtctkm",
        "outputId": "baf09251-02df-4e57-9d6f-b6c78e1e8884"
      },
      "execution_count": null,
      "outputs": [
        {
          "output_type": "stream",
          "name": "stdout",
          "text": [
            "Enter the number of rows: 2\n",
            "Enter the number of cols: 2\n",
            "Enter the element: 1\n",
            "Enter the element: 1\n",
            "Enter the element: 1\n",
            "Enter the element: 1\n",
            "[[1, 1], [1, 1]]\n",
            "Enter the element: 1\n",
            "Enter the element: 1\n",
            "Enter the element: 1\n",
            "Enter the element: 1\n",
            "[[1, 1], [1, 1]]\n",
            "Resultant matrix is: \n",
            "[[0, 0], [0, 0]]\n"
          ]
        }
      ]
    },
    {
      "cell_type": "code",
      "source": [
        "r=int(input(\"Enter number of rows: \"))\n",
        "c=int(input(\"Enter number of cols: \"))\n",
        "mat1=[]\n",
        "mat2=[]\n",
        "res=[]\n",
        "\n",
        "for i in range(r):\n",
        "  row=[]\n",
        "  for j in range(c):\n",
        "    e=int(input(\"Enter data: \"))\n",
        "    row.append(e)\n",
        "  mat1.append(row)\n",
        "print(mat1)\n",
        "\n",
        "for i in range(r):\n",
        "  row=[]\n",
        "  for j in range(c):\n",
        "    e=int(input(\"Enter data: \"))\n",
        "    row.append(e)\n",
        "  mat2.append(row)\n",
        "print(mat2)\n",
        "\n",
        "for i in range(r):\n",
        "  row=[]\n",
        "  for j in range(c):\n",
        "    row.append(mat1[i][j] + mat2[i][j])\n",
        "  res.append(row)\n",
        "print(\"Resultant matrix is: \")\n",
        "print(res)"
      ],
      "metadata": {
        "colab": {
          "base_uri": "https://localhost:8080/"
        },
        "id": "_2oNCYtzgC5l",
        "outputId": "32b27f14-85d3-4ab0-a3a1-5b58f38ceba2"
      },
      "execution_count": null,
      "outputs": [
        {
          "output_type": "stream",
          "name": "stdout",
          "text": [
            "Enter number of rows: 2\n",
            "Enter number of cols: 2\n",
            "Enter data: 1\n",
            "Enter data: 2\n",
            "Enter data: 3\n",
            "Enter data: 4\n",
            "[[1, 2], [3, 4]]\n",
            "Enter data: 1\n",
            "Enter data: 2\n",
            "Enter data: 3\n",
            "Enter data: 4\n",
            "[[1, 2], [3, 4]]\n",
            "Resultant matrix is: \n",
            "[[1, 4], [9, 16]]\n"
          ]
        }
      ]
    },
    {
      "cell_type": "code",
      "source": [
        "r=int(input(\"Enter number of rows: \"))\n",
        "c=int(input(\"Enter number of cols: \"))\n",
        "mat1=[]\n",
        "mat2=[]\n",
        "res=[]\n",
        "\n",
        "for i in range(r):\n",
        "  row=[]\n",
        "  for j in range(c):\n",
        "    e = int(input(\"Enter data: \"))\n",
        "    row.append(e)\n",
        "  mat1.append(row)\n",
        "print(mat1)\n",
        "\n",
        "for i in range(r):\n",
        "  row=[]\n",
        "  for j in range(c):\n",
        "    e=int(input(\"Enter data: \"))\n",
        "    row.append(e)\n",
        "  mat2.append(row)\n",
        "print(mat2)\n",
        "\n",
        "for i in range(r):\n",
        "  for j in range(c):\n",
        "    res.append(mat1[i][j]+mat2[i][j])\n",
        "print(\"The Res is: \")\n",
        "print(res)\n",
        "\n"
      ],
      "metadata": {
        "colab": {
          "base_uri": "https://localhost:8080/"
        },
        "id": "1foN7iFB_jcu",
        "outputId": "900ecbfb-7738-484b-928e-02630381f43f"
      },
      "execution_count": 7,
      "outputs": [
        {
          "output_type": "stream",
          "name": "stdout",
          "text": [
            "Enter number of rows: 2\n",
            "Enter number of cols: 2\n",
            "Enter data: 1\n",
            "Enter data: 2\n",
            "Enter data: 3\n",
            "Enter data: 4\n",
            "[[1, 2], [3, 4]]\n",
            "Enter data: 1\n",
            "Enter data: 2\n",
            "Enter data: 3\n",
            "Enter data: 4\n",
            "[[1, 2], [3, 4]]\n",
            "The Res is: \n",
            "[2, 4, 6, 8]\n"
          ]
        }
      ]
    },
    {
      "cell_type": "code",
      "source": [
        "r=int(input(\"Enter number of rows: \"))\n",
        "c=int(input(\"Enter number of cols: \"))\n",
        "mat1=[]\n",
        "mat2=[]\n",
        "res=[]\n",
        "\n",
        "for i in range(r):\n",
        "  row=[]\n",
        "  for j in range(c):\n",
        "    e = int(input(\"Enter data\"))\n",
        "    row.append(e)\n",
        "  mat1.append(row)\n",
        "print(mat1)\n",
        "\n",
        "for i in range(r):\n",
        "  row=[]\n",
        "  for j in range(c):\n",
        "    e=int(input(\"Enter data: \"))\n",
        "    row.append(e)\n",
        "  row.append(e)\n",
        "  mat2.append(row)\n",
        "print(mat2)\n",
        "\n",
        "for i in range(r):\n",
        "  for j in range(c):\n",
        "\n",
        "\n",
        "\n"
      ],
      "metadata": {
        "id": "v4FJg6-rDzVg"
      },
      "execution_count": null,
      "outputs": []
    },
    {
      "cell_type": "code",
      "source": [],
      "metadata": {
        "id": "0V9LfP5SGRIP"
      },
      "execution_count": null,
      "outputs": []
    }
  ]
}