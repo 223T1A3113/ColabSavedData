{
  "nbformat": 4,
  "nbformat_minor": 0,
  "metadata": {
    "colab": {
      "provenance": [],
      "authorship_tag": "ABX9TyP1/wTsLY4Je8rU3C7uxPkF",
      "include_colab_link": true
    },
    "kernelspec": {
      "name": "python3",
      "display_name": "Python 3"
    },
    "language_info": {
      "name": "python"
    }
  },
  "cells": [
    {
      "cell_type": "markdown",
      "metadata": {
        "id": "view-in-github",
        "colab_type": "text"
      },
      "source": [
        "<a href=\"https://colab.research.google.com/github/223T1A3113/ColabSavedData/blob/main/DL_Lab1.ipynb\" target=\"_parent\"><img src=\"https://colab.research.google.com/assets/colab-badge.svg\" alt=\"Open In Colab\"/></a>"
      ]
    },
    {
      "cell_type": "code",
      "execution_count": null,
      "metadata": {
        "colab": {
          "base_uri": "https://localhost:8080/"
        },
        "id": "NANnscgMw0Dl",
        "outputId": "0dc3a060-a7c7-410c-86eb-504cf9c59ece"
      },
      "outputs": [
        {
          "output_type": "stream",
          "name": "stdout",
          "text": [
            "teja\n",
            "TEJA\n",
            "teja\n",
            "Teja\n",
            "4\n",
            "False\n",
            "tej\n"
          ]
        }
      ],
      "source": [
        "a= 'teja'\n",
        "print(a)\n",
        "print(a.upper())\n",
        "print(a.lower())\n",
        "print(a.title())\n",
        "print(len(a))\n",
        "print('z' in a)\n",
        "print(a[:3])"
      ]
    },
    {
      "cell_type": "code",
      "source": [
        "list=[\"apple\",\"banana\",\"carrot\",\"draksha\",\"elachi\",\"banana\"]\n",
        "print(list)\n",
        "print(len(list))\n",
        "print(list[1])\n",
        "print(list[1][1])\n",
        "print(type(list))\n",
        "print(list[1]==list[5])\n",
        "print(type(list))\n",
        "list[1]=\"carot\"\n",
        "print(list)\n"
      ],
      "metadata": {
        "colab": {
          "base_uri": "https://localhost:8080/"
        },
        "id": "tw-s4zlVzREu",
        "outputId": "481f37a4-5e42-45d3-971e-822c1fdffc8b"
      },
      "execution_count": null,
      "outputs": [
        {
          "output_type": "stream",
          "name": "stdout",
          "text": [
            "['apple', 'banana', 'carrot', 'draksha', 'elachi', 'banana']\n",
            "6\n",
            "banana\n",
            "a\n",
            "<class 'list'>\n",
            "True\n",
            "<class 'list'>\n",
            "['apple', 'carot', 'carrot', 'draksha', 'elachi', 'banana']\n"
          ]
        }
      ]
    },
    {
      "cell_type": "code",
      "source": [
        "r=int(input(\"Enter the number of rows:\"))\n",
        "c=int(input(\"Enter the number of cols:\"))\n",
        "mat1=[]\n",
        "mat2=[]\n",
        "res=[]\n",
        "\n",
        "for i in range(r):\n",
        "  row=[]\n",
        "  for j in range(c):\n",
        "    e=int(input(\"Enter the element: \"))\n",
        "    row.append(e)\n",
        "  mat1.append(row)\n",
        "print(mat1)\n",
        "\n",
        "for i in range(r):\n",
        "  row=[]\n",
        "  for j in range(c):\n",
        "    e=int(input(\"Enter the elements: \"))\n",
        "    row.append(e)\n",
        "  mat2.append(row)\n",
        "print(mat2)\n",
        "\n",
        "for i in range(r):\n",
        "  row=[]\n",
        "  for j in range(c):\n",
        "    row.append(mat1[i][j]+mat2[i][j])\n",
        "  res.append(row)\n",
        "print(\"Resultant matrix is: \")\n",
        "print(res)"
      ],
      "metadata": {
        "id": "PJSgSb3wRkwO"
      },
      "execution_count": null,
      "outputs": []
    },
    {
      "cell_type": "code",
      "source": [
        "r=int(input(\"Enter the number of rows: \"))\n",
        "c=int(input(\"Enter the number of cols: \"))\n",
        "mat1=[]\n",
        "mat2=[]\n",
        "res=[]\n",
        "\n",
        "for i in range(r):\n",
        "  row=[]\n",
        "  for j in range(c):\n",
        "    e=int(input(\"Enter the element: \"))\n",
        "    row.append(e)\n",
        "  mat1.append(row)\n",
        "print(mat1)\n",
        "\n",
        "for i in range(r):\n",
        "  row=[]\n",
        "  for j in range(c):\n",
        "    e=int(input(\"Enter the element: \"))\n",
        "    row.append(e)\n",
        "  mat2.append(row)\n",
        "print(mat2)\n",
        "\n",
        "for i in range(r):\n",
        "  row=[]\n",
        "  for j in range(c):\n",
        "    row.append(mat1[i][j]-mat2[i][j])\n",
        "  res.append(row)\n",
        "print(\"Resultant matrix is: \")\n",
        "print(res)\n"
      ],
      "metadata": {
        "colab": {
          "base_uri": "https://localhost:8080/"
        },
        "id": "-1x5P6wtctkm",
        "outputId": "baf09251-02df-4e57-9d6f-b6c78e1e8884"
      },
      "execution_count": null,
      "outputs": [
        {
          "output_type": "stream",
          "name": "stdout",
          "text": [
            "Enter the number of rows: 2\n",
            "Enter the number of cols: 2\n",
            "Enter the element: 1\n",
            "Enter the element: 1\n",
            "Enter the element: 1\n",
            "Enter the element: 1\n",
            "[[1, 1], [1, 1]]\n",
            "Enter the element: 1\n",
            "Enter the element: 1\n",
            "Enter the element: 1\n",
            "Enter the element: 1\n",
            "[[1, 1], [1, 1]]\n",
            "Resultant matrix is: \n",
            "[[0, 0], [0, 0]]\n"
          ]
        }
      ]
    },
    {
      "cell_type": "code",
      "source": [
        "r=int(input(\"Enter number of rows: \"))\n",
        "c=int(input(\"Enter number of cols: \"))\n",
        "mat1=[]\n",
        "mat2=[]\n",
        "res=[]\n",
        "\n",
        "for i in range(r):\n",
        "  row=[]\n",
        "  for j in range(c):\n",
        "    e=int(input(\"Enter data: \"))\n",
        "    row.append(e)\n",
        "  mat1.append(row)\n",
        "print(mat1)\n",
        "\n",
        "for i in range(r):\n",
        "  row=[]\n",
        "  for j in range(c):\n",
        "    e=int(input(\"Enter data: \"))\n",
        "    row.append(e)\n",
        "  mat2.append(row)\n",
        "print(mat2)\n",
        "\n",
        "for i in range(r):\n",
        "  row=[]\n",
        "  for j in range(c):\n",
        "    row.append(mat1[i][j]*mat2[i][j])\n",
        "  res.append(row)\n",
        "print(\"Resultant matrix is: \")\n",
        "print(res)"
      ],
      "metadata": {
        "colab": {
          "base_uri": "https://localhost:8080/"
        },
        "id": "_2oNCYtzgC5l",
        "outputId": "32b27f14-85d3-4ab0-a3a1-5b58f38ceba2"
      },
      "execution_count": null,
      "outputs": [
        {
          "output_type": "stream",
          "name": "stdout",
          "text": [
            "Enter number of rows: 2\n",
            "Enter number of cols: 2\n",
            "Enter data: 1\n",
            "Enter data: 2\n",
            "Enter data: 3\n",
            "Enter data: 4\n",
            "[[1, 2], [3, 4]]\n",
            "Enter data: 1\n",
            "Enter data: 2\n",
            "Enter data: 3\n",
            "Enter data: 4\n",
            "[[1, 2], [3, 4]]\n",
            "Resultant matrix is: \n",
            "[[1, 4], [9, 16]]\n"
          ]
        }
      ]
    }
  ]
}